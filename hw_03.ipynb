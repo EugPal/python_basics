{
 "cells": [
  {
   "cell_type": "code",
   "execution_count": 1,
   "metadata": {},
   "outputs": [],
   "source": [
    "import requests\n",
    "from bs4 import BeautifulSoup"
   ]
  },
  {
   "cell_type": "markdown",
   "metadata": {},
   "source": [
    "# Задание 1\n",
    "\n",
    "\n",
    "Дано: [Сайт Библио-Глобуса](https://www.biblio-globus.ru)\n",
    "\n",
    "Если сайт Библио-Глобуса помре, то можно [сайт Читай-Города](https://www.chitai-gorod.ru)\n",
    "\n",
    "Задание: средствами парсинга ответить на список вопросов ниже\n",
    "\n",
    "\n",
    "1) Какова в среднем длина (в страницах) книги из категории классическая литература в ассортименте магазина?\n",
    "\n",
    "2) Какое у этих книг распределение цен? (попробуйте нарисовать [гистограмму](https://matplotlib.org/stable/api/_as_gen/matplotlib.pyplot.hist.html)\n",
    "\n",
    "3) Как соотносятся средние цены книг по Python, Машинному обучению и C++ ? (поясните, как именно вы доставали такие книги :), то есть \"я буду доставать книги вот так, потому что...\")\n"
   ]
  },
  {
   "cell_type": "code",
   "execution_count": null,
   "metadata": {},
   "outputs": [],
   "source": []
  },
  {
   "cell_type": "markdown",
   "metadata": {},
   "source": [
    "# Задание 2 про перевод из camel_case'a в snake_case\n",
    "\n",
    "Дано произвольное название, написанное в camelCase, перевести его в snake_case"
   ]
  },
  {
   "cell_type": "code",
   "execution_count": 1,
   "metadata": {},
   "outputs": [
    {
     "name": "stdout",
     "output_type": "stream",
     "text": [
      "camel_case_var\n"
     ]
    }
   ],
   "source": [
    "import re\n",
    "v = 'camelCaseVar'\n",
    "\n",
    "#должно превратиться в camel_case_var\n",
    "\n",
    "def camel_to_snake(name):\n",
    "    name = re.sub('(.)([A-Z][a-z]+)', r'\\1_\\2', name)\n",
    "    name = re.sub('([a-z0-9])([A-Z])', r'\\1_\\2', name).lower()\n",
    "    return name\n",
    "\n",
    "snake_case_var = camel_to_snake(v)\n",
    "print(snake_case_var)"
   ]
  },
  {
   "cell_type": "markdown",
   "metadata": {},
   "source": [
    "## Задание 3, Про время \n",
    "\n",
    "Вовочка подготовил одно очень важное письмо, но везде указал неправильное время. \n",
    "Поэтому нужно заменить все вхождения времени на строку (TBD). Время — это строка вида HH:MM:SS или HH:MM, в которой HH — число от 00 до 23, а MM и SS — число от 00 до 59.\n",
    "\n",
    "Ввод:\n",
    "\n",
    "    Уважаемые! Если вы к 09:00 не вернёте \n",
    "    чемодан, то уже в 09:00:01 я за себя не отвечаю. \n",
    "    PS. С отношением 25:50 всё нормально!\n",
    "    \n",
    "Вывод:\n",
    "\n",
    "    Уважаемые! Если вы к (TBD) не вернёте \n",
    "    чемодан, то уже в (TBD) я за себя не отвечаю. \n",
    "    PS. С отношением 25:50 всё нормально!"
   ]
  },
  {
   "cell_type": "code",
   "execution_count": 2,
   "metadata": {},
   "outputs": [
    {
     "name": "stdout",
     "output_type": "stream",
     "text": [
      "Уважаемые! Если вы к (TBD) не вернёте \n",
      "чемодан, то уже в (TBD) я за себя не отвечаю. \n",
      "PS. С отношением 25:50 всё нормально!\n"
     ]
    }
   ],
   "source": [
    "import re\n",
    "\n",
    "inp = \"\"\"Уважаемые! Если вы к 09:00 не вернёте \n",
    "чемодан, то уже в 09:00:01 я за себя не отвечаю. \n",
    "PS. С отношением 25:50 всё нормально!\"\"\"\n",
    "\n",
    "pattern = r'\\b([0-1]\\d|2[0-3]):([0-5]\\d)(?::[0-5]\\d)?\\b'\n",
    "result = re.sub(pattern, '(TBD)', inp)\n",
    "\n",
    "print(result)"
   ]
  },
  {
   "cell_type": "markdown",
   "metadata": {},
   "source": [
    "# Задание 4 Про отчетность \n",
    "\n",
    "Владимиру потребовалось срочно запутать финансовую документацию. Но так, чтобы это было обратимо. \n",
    "Он не придумал ничего лучше, чем заменить каждое целое число (непрерывную последовательность цифр) на его куб. Помогите ему.\n",
    "\n",
    "Ввод:\n",
    "\n",
    "    Было закуплено 12 единиц техники \n",
    "    по 410.37 рублей.\n",
    "    \n",
    "Вывод:\n",
    "\n",
    "    Было закуплено 1728 единиц техники \n",
    "    по 68921000.50653 рублей."
   ]
  },
  {
   "cell_type": "code",
   "execution_count": 3,
   "metadata": {},
   "outputs": [
    {
     "data": {
      "text/plain": [
       "'seven ate nine'"
      ]
     },
     "execution_count": 3,
     "metadata": {},
     "output_type": "execute_result"
    }
   ],
   "source": [
    "# Для решения вероятно в функцию sub надо будет пихать другую функцию. Пример \"как это делать\"\n",
    "\n",
    "import re\n",
    "\n",
    "def convert_func(matchobj):\n",
    "    m =  matchobj.group(0)\n",
    "    map = {'7': 'seven',\n",
    "           '8': 'eight',\n",
    "           '9': 'nine'}\n",
    "    return map[m]\n",
    "\n",
    "line = \"7 ate 9\"\n",
    "new_line =  re.sub(\"[7-9]\", convert_func, line)\n",
    "\n",
    "new_line"
   ]
  },
  {
   "cell_type": "code",
   "execution_count": 1,
   "metadata": {},
   "outputs": [
    {
     "name": "stdout",
     "output_type": "stream",
     "text": [
      "Было закуплено 1728 единиц техники по 68921000.50653 рублей.\n"
     ]
    }
   ],
   "source": [
    "import re\n",
    "\n",
    "def cubic(match):\n",
    "    m = int(match.group(0))\n",
    "    return str(m ** 3)\n",
    "\n",
    "text_for_change = \"Было закуплено 12 единиц техники по 410.37 рублей.\"\n",
    "changed_text = re.sub(r'\\b\\d+\\b', cubic, text_for_change)\n",
    "print(changed_text)\n"
   ]
  },
  {
   "cell_type": "markdown",
   "metadata": {},
   "source": [
    "# Задание 5. Про NumPy и SVD\n",
    "\n",
    "[Почитать про SVD - 1](http://timbaumann.info/svd-image-compression-demo/)\n",
    "\n",
    "Сожмите картинку во всех трех каналах с помощью SVD (R,G и B) и оцените, сколько нужно компонент, чтобы получилось вменяемое качество. А сколько мы при этом экономим места?\n",
    "\n",
    "[Как жать все 3 канала](https://www.kaggle.com/code/paulbacher/practical-applications-to-svd-on-rgb-images/notebook)"
   ]
  },
  {
   "cell_type": "code",
   "execution_count": 8,
   "metadata": {},
   "outputs": [],
   "source": [
    "import numpy as np\n",
    "from PIL import Image\n",
    "import matplotlib.pyplot as plt\n",
    "from tqdm import tqdm\n",
    "import warnings\n",
    "warnings.filterwarnings('ignore')"
   ]
  },
  {
   "cell_type": "code",
   "execution_count": 14,
   "metadata": {},
   "outputs": [
    {
     "ename": "SyntaxError",
     "evalue": "(unicode error) 'unicodeescape' codec can't decode bytes in position 2-3: truncated \\UXXXXXXXX escape (Temp/ipykernel_14292/3912449716.py, line 1)",
     "output_type": "error",
     "traceback": [
      "\u001b[1;36m  Cell \u001b[1;32mIn[14], line 1\u001b[1;36m\u001b[0m\n\u001b[1;33m    image = Image.open('C:\\Users\\palni\\OneDrive\\Рабочий стол\\питон учеба\\Avenue-de-Camoens-Paris-Eiffel-Tower.png')\u001b[0m\n\u001b[1;37m                                                                                                                  ^\u001b[0m\n\u001b[1;31mSyntaxError\u001b[0m\u001b[1;31m:\u001b[0m (unicode error) 'unicodeescape' codec can't decode bytes in position 2-3: truncated \\UXXXXXXXX escape\n"
     ]
    }
   ],
   "source": [
    "image = Image.open('C:\\Users\\palni\\OneDrive\\Рабочий стол\\питон учеба\\Avenue-de-Camoens-Paris-Eiffel-Tower.png')\n",
    "plt.figure(figsize=(8, 8))\n",
    "plt.imshow(image)\n",
    "plt.show()"
   ]
  },
  {
   "cell_type": "code",
   "execution_count": 10,
   "metadata": {},
   "outputs": [],
   "source": [
    "def svd_compressor(image, order):\n",
    "    \"\"\"Returns the compressed image channel at the specified order\"\"\"\n",
    "    \n",
    "    # Create an array filled with zeros having the shape of the image\n",
    "    compressed = np.zeros(image.shape)\n",
    "    \n",
    "    # Get the U, S and V terms (S = SIGMA)\n",
    "    U, S, V = np.linalg.svd(image)\n",
    "    \n",
    "    # Loop over U columns (Ui), S diagonal terms (Si) and V rows (Vi) until the chosen order\n",
    "    for i in range(order):\n",
    "        Ui = U[:, i].reshape(-1, 1)\n",
    "        Vi = V[i, :].reshape(1, -1)\n",
    "        Si = S[i]\n",
    "        compressed += (Ui * Si * Vi)\n",
    "    \n",
    "    return compressed"
   ]
  },
  {
   "cell_type": "code",
   "execution_count": 11,
   "metadata": {},
   "outputs": [
    {
     "ename": "NameError",
     "evalue": "name 'image' is not defined",
     "output_type": "error",
     "traceback": [
      "\u001b[1;31m---------------------------------------------------------------------------\u001b[0m",
      "\u001b[1;31mNameError\u001b[0m                                 Traceback (most recent call last)",
      "Cell \u001b[1;32mIn[11], line 1\u001b[0m\n\u001b[1;32m----> 1\u001b[0m red_image \u001b[38;5;241m=\u001b[39m np\u001b[38;5;241m.\u001b[39marray(\u001b[43mimage\u001b[49m)[:, :, \u001b[38;5;241m0\u001b[39m]\n\u001b[0;32m      2\u001b[0m green_image \u001b[38;5;241m=\u001b[39m np\u001b[38;5;241m.\u001b[39marray(image)[:, :, \u001b[38;5;241m1\u001b[39m]\n\u001b[0;32m      3\u001b[0m blue_image \u001b[38;5;241m=\u001b[39m np\u001b[38;5;241m.\u001b[39marray(image)[:, :, \u001b[38;5;241m2\u001b[39m]\n",
      "\u001b[1;31mNameError\u001b[0m: name 'image' is not defined"
     ]
    }
   ],
   "source": [
    "red_image = np.array(image)[:, :, 0]\n",
    "green_image = np.array(image)[:, :, 1]\n",
    "blue_image = np.array(image)[:, :, 2]\n",
    "\n",
    "orig_size = np.array(image).nbytes"
   ]
  },
  {
   "cell_type": "code",
   "execution_count": 12,
   "metadata": {},
   "outputs": [
    {
     "name": "stderr",
     "output_type": "stream",
     "text": [
      "  0%|                                                                                            | 0/9 [00:00<?, ?it/s]\n"
     ]
    },
    {
     "ename": "NameError",
     "evalue": "name 'red_image' is not defined",
     "output_type": "error",
     "traceback": [
      "\u001b[1;31m---------------------------------------------------------------------------\u001b[0m",
      "\u001b[1;31mNameError\u001b[0m                                 Traceback (most recent call last)",
      "Cell \u001b[1;32mIn[12], line 7\u001b[0m\n\u001b[0;32m      3\u001b[0m \u001b[38;5;28;01mfor\u001b[39;00m i \u001b[38;5;129;01min\u001b[39;00m tqdm(\u001b[38;5;28mrange\u001b[39m(\u001b[38;5;28mlen\u001b[39m(orders))):\n\u001b[0;32m      4\u001b[0m     \n\u001b[0;32m      5\u001b[0m     \u001b[38;5;66;03m# Use the compressor function\u001b[39;00m\n\u001b[0;32m      6\u001b[0m     order \u001b[38;5;241m=\u001b[39m orders[i]\n\u001b[1;32m----> 7\u001b[0m     red_comp \u001b[38;5;241m=\u001b[39m svd_compressor(\u001b[43mred_image\u001b[49m, order)\n\u001b[0;32m      8\u001b[0m     green_comp \u001b[38;5;241m=\u001b[39m svd_compressor(green_image, order)\n\u001b[0;32m      9\u001b[0m     blue_comp \u001b[38;5;241m=\u001b[39m svd_compressor(blue_image, order)\n",
      "\u001b[1;31mNameError\u001b[0m: name 'red_image' is not defined"
     ]
    }
   ],
   "source": [
    "orders = [1, 5, 10, 20, 50, 100, 200, 400, 800]\n",
    "\n",
    "for i in tqdm(range(len(orders))):\n",
    "    \n",
    "    # Use the compressor function\n",
    "    order = orders[i]\n",
    "    red_comp = svd_compressor(red_image, order)\n",
    "    green_comp = svd_compressor(green_image, order)\n",
    "    blue_comp = svd_compressor(blue_image, order)\n",
    "    \n",
    "    # Combine images\n",
    "    color_comp = np.zeros((np.array(image).shape[0], np.array(image).shape[1], 3))\n",
    "    color_comp[:, :, 0] = red_comp\n",
    "    color_comp[:, :, 1] = green_comp\n",
    "    color_comp[:, :, 2] = blue_comp\n",
    "    color_comp = np.around(color_comp).astype(int)\n",
    "    print(color_comp.nbytes)\n"
   ]
  },
  {
   "cell_type": "code",
   "execution_count": 13,
   "metadata": {},
   "outputs": [
    {
     "ename": "SyntaxError",
     "evalue": "EOF while scanning triple-quoted string literal (Temp/ipykernel_14292/1288014570.py, line 9)",
     "output_type": "error",
     "traceback": [
      "\u001b[1;36m  Cell \u001b[1;32mIn[13], line 9\u001b[1;36m\u001b[0m\n\u001b[1;33m    plt.show()\u001b[0m\n\u001b[1;37m              \n^\u001b[0m\n\u001b[1;31mSyntaxError\u001b[0m\u001b[1;31m:\u001b[0m EOF while scanning triple-quoted string literal\n"
     ]
    }
   ],
   "source": [
    "    \n",
    "   \"\"\" \n",
    "   # Display the compressed colored image in the subplot\n",
    "    plt.subplot(2, 5, i + 1)\n",
    "    plt.title(\"Order = {}\".format(order))\n",
    "    plt.axis('off')\n",
    "    plt.imshow(color_comp)\n",
    "\n",
    "plt.suptitle('Compression at different orders')\n",
    "plt.show()"
   ]
  },
  {
   "cell_type": "code",
   "execution_count": null,
   "metadata": {},
   "outputs": [],
   "source": []
  }
 ],
 "metadata": {
  "kernelspec": {
   "display_name": "Python 3 (ipykernel)",
   "language": "python",
   "name": "python3"
  },
  "language_info": {
   "codemirror_mode": {
    "name": "ipython",
    "version": 3
   },
   "file_extension": ".py",
   "mimetype": "text/x-python",
   "name": "python",
   "nbconvert_exporter": "python",
   "pygments_lexer": "ipython3",
   "version": "3.9.5"
  }
 },
 "nbformat": 4,
 "nbformat_minor": 4
}
